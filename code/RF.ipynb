{
 "cells": [
  {
   "cell_type": "code",
   "execution_count": 1,
   "metadata": {
    "collapsed": true
   },
   "outputs": [
    {
     "name": "stderr",
     "output_type": "stream",
     "text": [
      "/home/fay/.local/lib/python3.5/site-packages/sklearn/cross_validation.py:41: DeprecationWarning: This module was deprecated in version 0.18 in favor of the model_selection module into which all the refactored classes and functions are moved. Also note that the interface of the new CV iterators are different from that of this module. This module will be removed in 0.20.\n  \"This module will be removed in 0.20.\", DeprecationWarning)\n/home/fay/.local/lib/python3.5/site-packages/sklearn/grid_search.py:42: DeprecationWarning: This module was deprecated in version 0.18 in favor of the model_selection module into which all the refactored classes and functions are moved. This module will be removed in 0.20.\n  DeprecationWarning)\n"
     ]
    }
   ],
   "source": [
    "import pandas as pd\n",
    "import numpy as np\n",
    "from sklearn.ensemble import RandomForestClassifier\n",
    "from sklearn.grid_search import GridSearchCV\n",
    "from sklearn import cross_validation, metrics\n",
    "\n",
    "import matplotlib.pylab as plt\n",
    "%matplotlib inline"
   ]
  },
  {
   "cell_type": "code",
   "execution_count": 2,
   "metadata": {},
   "outputs": [
    {
     "data": {
      "text/plain": [
       "0    19680\n1      320\nName: Disbursed, dtype: int64"
      ]
     },
     "execution_count": 2,
     "metadata": {},
     "output_type": "execute_result"
    }
   ],
   "source": [
    "train = pd.read_csv('./mlpractice/data/train_modified.csv')\n",
    "target='Disbursed' # Disbursed的值就是二元分类的输出\n",
    "IDcol = 'ID'\n",
    "train['Disbursed'].value_counts()"
   ]
  },
  {
   "cell_type": "code",
   "execution_count": 3,
   "metadata": {},
   "outputs": [],
   "source": [
    "x_columns = [x for x in train.columns if x not in [target, IDcol]]\n",
    "X = train[x_columns]\n",
    "y = train['Disbursed']"
   ]
  },
  {
   "cell_type": "code",
   "execution_count": 4,
   "metadata": {},
   "outputs": [
    {
     "name": "stdout",
     "output_type": "stream",
     "text": [
      "0.98005\nAUC Score (Train): 0.999833\n"
     ]
    },
    {
     "name": "stderr",
     "output_type": "stream",
     "text": [
      "/home/fay/.local/lib/python3.5/site-packages/sklearn/ensemble/forest.py:453: UserWarning: Some inputs do not have OOB scores. This probably means too few trees were used to compute any reliable oob estimates.\n  warn(\"Some inputs do not have OOB scores. \"\n/home/fay/.local/lib/python3.5/site-packages/sklearn/ensemble/forest.py:458: RuntimeWarning: invalid value encountered in true_divide\n  predictions[k].sum(axis=1)[:, np.newaxis])\n"
     ]
    }
   ],
   "source": [
    "rf0 = RandomForestClassifier(oob_score=True, random_state=10)\n",
    "rf0.fit(X,y)\n",
    "print (rf0.oob_score_)\n",
    "y_predprob = rf0.predict_proba(X)[:,1]\n",
    "print (\"AUC Score (Train): %f\" % metrics.roc_auc_score(y,\n",
    "                                            y_predprob))"
   ]
  },
  {
   "cell_type": "code",
   "execution_count": 5,
   "metadata": {},
   "outputs": [
    {
     "data": {
      "text/plain": [
       "([mean: 0.80681, std: 0.02236, params: {'n_estimators': 10},\n  mean: 0.81945, std: 0.02840, params: {'n_estimators': 71},\n  mean: 0.80681, std: 0.02236, params: {'n_estimators': 10}],\n {'n_estimators': 71},\n 0.8194546335111786)"
      ]
     },
     "execution_count": 5,
     "metadata": {},
     "output_type": "execute_result"
    }
   ],
   "source": [
    "param_test1 = {'n_estimators':[10,71,10]}\n",
    "gsearch1 = GridSearchCV(estimator = RandomForestClassifier(min_samples_split=100,\n",
    "                                  min_samples_leaf=20,max_depth=8,max_features='sqrt' ,random_state=10), \n",
    "                       param_grid = param_test1, scoring='roc_auc',cv=5)\n",
    "gsearch1.fit(X,y)\n",
    "gsearch1.grid_scores_, gsearch1.best_params_, gsearch1.best_score_"
   ]
  },
  {
   "cell_type": "code",
   "execution_count": 8,
   "metadata": {},
   "outputs": [
    {
     "data": {
      "text/plain": [
       "([mean: 0.79379, std: 0.02347, params: {'max_depth': 3, 'min_samples_split': 50},\n  mean: 0.79349, std: 0.02542, params: {'max_depth': 3, 'min_samples_split': 201},\n  mean: 0.79377, std: 0.02406, params: {'max_depth': 3, 'min_samples_split': 20},\n  mean: 0.82226, std: 0.02116, params: {'max_depth': 14, 'min_samples_split': 50},\n  mean: 0.81859, std: 0.02711, params: {'max_depth': 14, 'min_samples_split': 201},\n  mean: 0.82085, std: 0.02291, params: {'max_depth': 14, 'min_samples_split': 20},\n  mean: 0.78546, std: 0.02676, params: {'max_depth': 2, 'min_samples_split': 50},\n  mean: 0.78549, std: 0.02669, params: {'max_depth': 2, 'min_samples_split': 201},\n  mean: 0.78546, std: 0.02676, params: {'max_depth': 2, 'min_samples_split': 20}],\n {'max_depth': 14, 'min_samples_split': 50},\n 0.8222604643038618)"
      ]
     },
     "execution_count": 7,
     "metadata": {},
     "output_type": "execute_result"
    }
   ],
   "source": [
    "param_test2 = {'max_depth':[3,14,2], 'min_samples_split':[50,201,20]}\n",
    "gsearch2 = GridSearchCV(estimator = RandomForestClassifier(n_estimators= 60, \n",
    "                                  min_samples_leaf=20,max_features='sqrt' ,oob_score=True, random_state=10),\n",
    "   param_grid = param_test2, scoring='roc_auc',iid=False, cv=5)\n",
    "gsearch2.fit(X,y)\n",
    "gsearch2.grid_scores_, gsearch2.best_params_, gsearch2.best_score_"
   ]
  },
  {
   "cell_type": "code",
   "execution_count": 8,
   "metadata": {},
   "outputs": [
    {
     "name": "stdout",
     "output_type": "stream",
     "text": [
      "0.984\n"
     ]
    }
   ],
   "source": [
    "rf1 = RandomForestClassifier(n_estimators= 60, \n",
    "max_depth=13, min_samples_split=110,\n",
    "min_samples_leaf=20,max_features='sqrt',\n",
    "oob_score=True, random_state=10)\n",
    "rf1.fit(X,y)\n",
    "print (rf1.oob_score_)"
   ]
  },
  {
   "cell_type": "code",
   "execution_count": 11,
   "metadata": {
    "collapsed": true
   },
   "outputs": [
    {
     "data": {
      "text/plain": [
       "([mean: 0.82093, std: 0.02287, params: {'min_samples_leaf': 10, 'min_samples_split': 80},\n  mean: 0.81683, std: 0.02337, params: {'min_samples_leaf': 10, 'min_samples_split': 150},\n  mean: 0.81954, std: 0.01710, params: {'min_samples_leaf': 10, 'min_samples_split': 20},\n  mean: 0.81766, std: 0.02457, params: {'min_samples_leaf': 60, 'min_samples_split': 80},\n  mean: 0.81625, std: 0.02442, params: {'min_samples_leaf': 60, 'min_samples_split': 150},\n  mean: 0.81766, std: 0.02457, params: {'min_samples_leaf': 60, 'min_samples_split': 20},\n  mean: 0.81989, std: 0.02576, params: {'min_samples_leaf': 1, 'min_samples_split': 80},\n  mean: 0.81485, std: 0.02634, params: {'min_samples_leaf': 1, 'min_samples_split': 150},\n  mean: 0.81246, std: 0.02095, params: {'min_samples_leaf': 1, 'min_samples_split': 20}],\n {'min_samples_leaf': 10, 'min_samples_split': 80},\n 0.8209294016768294)"
      ]
     },
     "execution_count": 10,
     "metadata": {},
     "output_type": "execute_result"
    }
   ],
   "source": [
    "param_test3 = {'min_samples_split':[80,150,20],\n",
    "               'min_samples_leaf': [10,60,1]}\n",
    "gsearch3 = GridSearchCV(estimator = RandomForestClassifier(n_estimators= 60, \n",
    "   max_depth=13, max_features='sqrt' ,oob_score=True, random_state=10),\n",
    "   param_grid = param_test3, scoring='roc_auc',iid=False, cv=5)\n",
    "gsearch3.fit(X,y)\n",
    "gsearch3.grid_scores_, gsearch3.best_params_, gsearch3.best_score_"
   ]
  },
  {
   "cell_type": "code",
   "execution_count": 16,
   "metadata": {
    "collapsed": true
   },
   "outputs": [
    {
     "data": {
      "text/plain": [
       "([mean: 0.81981, std: 0.02586, params: {'max_features': 3},\n  mean: 0.81897, std: 0.02200, params: {'max_features': 11},\n  mean: 0.81258, std: 0.03527, params: {'max_features': 2}],\n {'max_features': 3},\n 0.8198119124745936)"
      ]
     },
     "execution_count": 15,
     "metadata": {},
     "output_type": "execute_result"
    }
   ],
   "source": [
    "param_test4 = {'max_features':[3,11,2]}\n",
    "gsearch4 = GridSearchCV(estimator =\n",
    "            RandomForestClassifier(\n",
    "            n_estimators= 60, max_depth=13, \n",
    "            min_samples_split=120,\n",
    "            min_samples_leaf=20 ,\n",
    "            oob_score=True, random_state=10),\n",
    "            param_grid = param_test4, \n",
    "            scoring='roc_auc',iid=False, cv=5)\n",
    "gsearch4.fit(X,y)\n",
    "gsearch4.grid_scores_, gsearch4.best_params_, gsearch4.best_score_"
   ]
  },
  {
   "cell_type": "code",
   "execution_count": 16,
   "metadata": {},
   "outputs": [
    {
     "name": "stdout",
     "output_type": "stream",
     "text": [
      "0.984\n"
     ]
    }
   ],
   "source": [
    "rf2 = RandomForestClassifier(n_estimators= 60, max_depth=13, min_samples_split=120,\n",
    "                                  min_samples_leaf=20,max_features=7 ,oob_score=True, random_state=10)\n",
    "rf2.fit(X,y)\n",
    "print(rf2.oob_score_)"
   ]
  },
  {
   "cell_type": "code",
   "execution_count": null,
   "metadata": {},
   "outputs": [],
   "source": []
  }
 ],
 "metadata": {
  "kernelspec": {
   "display_name": "Python 2",
   "language": "python",
   "name": "python2"
  },
  "language_info": {
   "codemirror_mode": {
    "name": "ipython",
    "version": 2
   },
   "file_extension": ".py",
   "mimetype": "text/x-python",
   "name": "python",
   "nbconvert_exporter": "python",
   "pygments_lexer": "ipython2",
   "version": "2.7.6"
  }
 },
 "nbformat": 4,
 "nbformat_minor": 0
}
